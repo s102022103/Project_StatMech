{
 "cells": [
  {
   "cell_type": "markdown",
   "metadata": {},
   "source": [
    "# 2d Ising model using tensor renormalization group"
   ]
  },
  {
   "cell_type": "markdown",
   "metadata": {},
   "source": [
    "In the course we've solved 1d Ising model using [*Transfer Matrix method*](https://en.wikipedia.org/wiki/Transfer-matrix_method):<br>\n",
    "Roughly, we treat the partition function: <br>\n",
    "<center>$Z=v_0\\cdot \\{\\prod_{k=1}^{N}W_k\\} \\cdot v_{N+1}  $</center>\n",
    "where $v_0$ and $v_{N+1}$ are first and last sides object. If we use periodic boundary condition then\n",
    "$v_{N+1}=v_0$. $W$ is the transfer matrix which connect neighbor sides object. \n",
    "As we've learned that in 1d case that there is no phase transtion since the free energy is mantained analytic. \n",
    "> *Is the phase transition happened in 2d Ising model? In the course we used mean field theory and predict there is a phase transition where $T_c=\\frac{hZJ}{K_B}$. But mean field theory may fail or get imprecise result in low dimention case. Our goal now bacome **Can we get better result than mean field prediction?** *\n",
    "\n",
    "# [*Ising model*](https://en.wikipedia.org/wiki/Ising_model)\n",
    "\n",
    "Before the project starts, we should briefly talk about the Ising model \n",
    "<a href= \"https://web.stanford.edu/~peastman/statmech/phasetransitions.html\"><img src=\"https://web.stanford.edu/~peastman/statmech/_images/ising_model.svg\" height=\"240\" width=\"240\"></a>\n",
    "\n",
    "<center> Ising model with spin  $\\pm \\frac{1}{2}$</center>\n",
    "\n",
    "Ising model is a model to describe the magnetic solid.We consider the square lattice with spin \n",
    "$\\pm \\frac{1}{2}$ and spin are only interacted by nearest neighbor. Furthermore,we can consider \n",
    "there is a external field $h$ such that enforce spin to align on specific direction(up/down).<br>\n",
    "For such model, the Hamiltonian is <br>\n",
    "\n",
    "<center> $H = -J\\sum\\limits_{<ij>}\\sigma_i\\sigma_j-h \\sum\\limits_i\\sigma_i$</center>\n",
    "where $J$ is the pair energy. $J>0$ the interaction is called ferromagnetic while $J<0$ is called antiferromagnetic. $\\sigma_i$ is the spin on $i$ site, for simplicity we just assume \n",
    "$\\sigma \\in [1,-1]$ rather than $\\in [\\frac{1}{2},-\\frac{1}{2}]$ and h=0 for simplicity.\n",
    "\n",
    "# implement of 2d Ising model based on tensor network\n",
    "In [*this paper*](https://arxiv.org/abs/1201.1144), they calculated the partition function with tensor network. In my opinion, it seems a little bit like transfer matrix method with dimension more than one.<br>\n",
    "When the Hamiltonian consists only local terms with Bolzmann weight \n",
    "$W(\\{\\sigma \\}) =e^{-\\beta H\\{ \\sigma \\}}$, \n",
    "we can write the partition function as sum their sum <br>            \n",
    "<center> $Z =\\displaystyle{\\sum_{\\{\\sigma \\}}W(\\{\\sigma \\})}$ </center> <br>\n",
    "As taught in class, we know the Bolzmann weight for Ising model is\n",
    "$W(\\sigma_i,\\sigma_j)=  \n",
    "  \\begin{bmatrix}\n",
    "   W_{\\uparrow \\uparrow} & W_{\\uparrow \\downarrow}  \\\\\n",
    "   W_{\\downarrow \\uparrow} & W_{\\downarrow \\downarrow}\n",
    "  \\end{bmatrix} =\n",
    "  \\begin{bmatrix}\n",
    "   e^{\\beta} & e^{-\\beta}  \\\\\n",
    "   e^{-\\beta}& e^{\\beta}\n",
    "  \\end{bmatrix} $ (consider external field h = 0 and J = 1)<br> \n",
    "  \n",
    "in the tensor network langue we would represent the matrix as rank 2 tensor, \n",
    "$W=$ ![avatar](C:\\Users\\元鈞\\notes_on_python\\StatMech_project)"
   ]
  },
  {
   "cell_type": "code",
   "execution_count": 1,
   "metadata": {},
   "outputs": [
    {
     "ename": "ModuleNotFoundError",
     "evalue": "No module named 'pyuni10'",
     "output_type": "error",
     "traceback": [
      "\u001b[1;31m---------------------------------------------------------------------------\u001b[0m",
      "\u001b[1;31mModuleNotFoundError\u001b[0m                       Traceback (most recent call last)",
      "\u001b[1;32m<ipython-input-1-109b498d6733>\u001b[0m in \u001b[0;36m<module>\u001b[1;34m()\u001b[0m\n\u001b[1;32m----> 1\u001b[1;33m \u001b[1;32mimport\u001b[0m \u001b[0mpyuni10\u001b[0m \u001b[1;32mas\u001b[0m \u001b[0muni10\u001b[0m\u001b[1;33m\u001b[0m\u001b[0m\n\u001b[0m\u001b[0;32m      2\u001b[0m \u001b[1;32mimport\u001b[0m \u001b[0mnumpy\u001b[0m \u001b[1;32mas\u001b[0m \u001b[0mnp\u001b[0m\u001b[1;33m\u001b[0m\u001b[0m\n\u001b[0;32m      3\u001b[0m \u001b[1;32mimport\u001b[0m \u001b[0mmatplotlib\u001b[0m \u001b[1;32mas\u001b[0m \u001b[0mplt\u001b[0m\u001b[1;33m\u001b[0m\u001b[0m\n",
      "\u001b[1;31mModuleNotFoundError\u001b[0m: No module named 'pyuni10'"
     ]
    }
   ],
   "source": [
    "\n",
    "import pyuni10 as uni10 \n",
    "import numpy as np\n",
    "import matplotlib as plt"
   ]
  },
  {
   "cell_type": "code",
   "execution_count": null,
   "metadata": {},
   "outputs": [],
   "source": []
  }
 ],
 "metadata": {
  "kernelspec": {
   "display_name": "Python 3",
   "language": "python",
   "name": "python3"
  },
  "language_info": {
   "codemirror_mode": {
    "name": "ipython",
    "version": 3
   },
   "file_extension": ".py",
   "mimetype": "text/x-python",
   "name": "python",
   "nbconvert_exporter": "python",
   "pygments_lexer": "ipython3",
   "version": "3.6.4"
  }
 },
 "nbformat": 4,
 "nbformat_minor": 2
}
